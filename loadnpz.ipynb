{
 "cells": [
  {
   "cell_type": "markdown",
   "metadata": {},
   "source": [
    "# 压缩格式存储"
   ]
  },
  {
   "cell_type": "code",
   "execution_count": 5,
   "metadata": {},
   "outputs": [
    {
     "data": {
      "text/plain": [
       "array([[1, 0, 2],\n",
       "       [0, 0, 3],\n",
       "       [4, 5, 6]])"
      ]
     },
     "execution_count": 5,
     "metadata": {},
     "output_type": "execute_result"
    }
   ],
   "source": [
    "import numpy as np\n",
    "from scipy.sparse import coo_matrix,csr_matrix,csc_matrix\n",
    "\n",
    "indptr = np.array([0,2,3,6])\n",
    "indices = np.array([0,2,2,0,1,2])\n",
    "data = np.array([1,2,3,4,5,6])\n",
    "csr_matrix((data,indices,indptr),shape=(3,3)).toarray()\n"
   ]
  },
  {
   "cell_type": "code",
   "execution_count": 14,
   "metadata": {},
   "outputs": [
    {
     "data": {
      "text/plain": [
       "array([[1, 0, 4],\n",
       "       [0, 0, 5],\n",
       "       [2, 3, 6]])"
      ]
     },
     "execution_count": 14,
     "metadata": {},
     "output_type": "execute_result"
    }
   ],
   "source": [
    "indptr = np.array([0,2,3,6])\n",
    "indices = np.array([0,2,2,0,1,2])\n",
    "data = np.array([1,2,3,4,5,6])\n",
    "csc_matrix((data,indices,indptr),shape=(3,3)).toarray()"
   ]
  },
  {
   "cell_type": "code",
   "execution_count": 15,
   "metadata": {},
   "outputs": [
    {
     "data": {
      "text/plain": [
       "array([[0, 0, 1, 0, 1, 0],\n",
       "       [1, 0, 0, 1, 1, 3],\n",
       "       [3, 0, 0, 0, 1, 4],\n",
       "       [5, 0, 0, 2, 1, 2],\n",
       "       [0, 0, 0, 0, 1, 0],\n",
       "       [7, 0, 2, 3, 1, 1]])"
      ]
     },
     "execution_count": 15,
     "metadata": {},
     "output_type": "execute_result"
    }
   ],
   "source": [
    "indptr = np.array([0,4,4,6,9,15,19])\n",
    "indices = np.array([1,2,3,5,0,5,1,3,5,0,1,2,3,4,5,1,2,3,5])\n",
    "data = np.array([1,3,5,7,1,2,1,2,3,1,1,1,1,1,1,3,4,2,1])\n",
    "csc_matrix((data,indices,indptr),shape=(6,6)).toarray()"
   ]
  },
  {
   "cell_type": "code",
   "execution_count": 11,
   "metadata": {},
   "outputs": [
    {
     "data": {
      "text/plain": [
       "array([[1, 0, 4],\n",
       "       [0, 1, 5],\n",
       "       [2, 0, 3]])"
      ]
     },
     "execution_count": 11,
     "metadata": {},
     "output_type": "execute_result"
    }
   ],
   "source": [
    "indptr = np.array([0,2,3,6])\n",
    "indices = np.array([0,2,1,2,0,1,2])\n",
    "data = np.array([1,2,1,3,4,5,6])\n",
    "csc_matrix((data,indices,indptr),shape=(3,3)).toarray()"
   ]
  },
  {
   "cell_type": "code",
   "execution_count": 12,
   "metadata": {},
   "outputs": [
    {
     "data": {
      "text/plain": [
       "array([[1, 0, 4],\n",
       "       [1, 0, 5],\n",
       "       [0, 2, 3]])"
      ]
     },
     "execution_count": 12,
     "metadata": {},
     "output_type": "execute_result"
    }
   ],
   "source": [
    "indptr = np.array([0,2,3,6])\n",
    "indices = np.array([0,1,2,2,0,1,2])\n",
    "data = np.array([1,1,2,3,4,5,6])\n",
    "csc_matrix((data,indices,indptr),shape=(3,3)).toarray()"
   ]
  },
  {
   "cell_type": "code",
   "execution_count": 8,
   "metadata": {},
   "outputs": [
    {
     "name": "stdout",
     "output_type": "stream",
     "text": [
      "--------coo_matrix--------\n",
      "  (0, 0)\t2\n",
      "  (0, 2)\t1\n",
      "  (1, 1)\t3\n",
      "  (3, 3)\t1\n",
      "  (1, 1)\t2\n",
      "  (0, 0)\t1\n",
      "  (0, 0)\t4\n",
      "\n",
      "--------toarray---------\n",
      "[[7 0 1 0]\n",
      " [0 5 0 0]\n",
      " [0 0 0 0]\n",
      " [0 0 0 1]]\n",
      "\n",
      "--------toscs---------\n",
      "  (0, 0)\t7\n",
      "  (1, 1)\t5\n",
      "  (0, 2)\t1\n",
      "  (3, 3)\t1\n",
      "\n",
      "--------todense---------\n",
      "[[7 0 1 0]\n",
      " [0 5 0 0]\n",
      " [0 0 0 0]\n",
      " [0 0 0 1]]\n"
     ]
    }
   ],
   "source": [
    "from numpy import array\n",
    "from scipy.sparse import coo_matrix\n",
    "row = array([0,0,1,3,1,0,0])\n",
    "col = array([0,2,1,3,1,0,0])\n",
    "data = array([2,1,3,1,2,1,4])\n",
    "A = coo_matrix((data,(row,col)),shape=(4,4))\n",
    "print(\"--------coo_matrix--------\")\n",
    "print(A)\n",
    "\n",
    "print()\n",
    "print(\"--------toarray---------\")\n",
    "print(A.toarray())\n",
    "\n",
    "B = A.tocsc()\n",
    "print()\n",
    "print(\"--------toscs---------\")\n",
    "print(B)\n",
    "\n",
    "C = B.todense()\n",
    "print()\n",
    "print(\"--------todense---------\")\n",
    "print(C)"
   ]
  },
  {
   "cell_type": "code",
   "execution_count": 3,
   "metadata": {},
   "outputs": [
    {
     "name": "stdout",
     "output_type": "stream",
     "text": [
      "(12672, 228)\n"
     ]
    }
   ],
   "source": [
    "import numpy as np\n",
    "# 读取vel.csv\n",
    "with open('./data/pemsd7-m/vel.csv',encoding='utf-8') as f:\n",
    "    data_2 = np.loadtxt(f,delimiter=',')\n",
    "    print(data_2.shape)"
   ]
  },
  {
   "cell_type": "code",
   "execution_count": 4,
   "metadata": {},
   "outputs": [
    {
     "name": "stdout",
     "output_type": "stream",
     "text": [
      "  (0, 0)\t1.0\n",
      "  (1, 0)\t0.874723658573536\n",
      "  (2, 0)\t0.3612846282098772\n",
      "  (3, 0)\t0.150751115862349\n",
      "  (4, 0)\t0.44773753416261347\n",
      "  (7, 0)\t0.9366682108438592\n",
      "  (8, 0)\t0.6294460508233404\n",
      "  (11, 0)\t0.7839333057097398\n",
      "  (12, 0)\t0.3309976422216514\n",
      "  (15, 0)\t0.6802770768089623\n",
      "  (58, 0)\t0.10052330878754748\n",
      "  (65, 0)\t0.10478651398778062\n",
      "  (68, 0)\t0.12590298087652654\n",
      "  (108, 0)\t0.5608901322885123\n",
      "  (109, 0)\t0.6899634477684644\n",
      "  (112, 0)\t0.20452601018760724\n",
      "  (114, 0)\t0.32572485193348727\n",
      "  (115, 0)\t0.8756092297080661\n",
      "  (116, 0)\t0.1010639188922501\n",
      "  (118, 0)\t0.30866295600959187\n",
      "  (120, 0)\t0.7924221612667589\n",
      "  (123, 0)\t0.9318102066961166\n",
      "  (124, 0)\t0.4643323538620246\n",
      "  (126, 0)\t0.5328487422206488\n",
      "  (127, 0)\t0.8412964212185728\n",
      "  :\t:\n",
      "  (185, 227)\t0.406905517928299\n",
      "  (186, 227)\t0.15049343836804044\n",
      "  (187, 227)\t0.18220630019898112\n",
      "  (188, 227)\t0.3979505510953252\n",
      "  (192, 227)\t0.17455919974749026\n",
      "  (193, 227)\t0.4049386337428703\n",
      "  (195, 227)\t0.13101336046275158\n",
      "  (197, 227)\t0.13362495666231547\n",
      "  (203, 227)\t0.2559489535353037\n",
      "  (205, 227)\t0.2559489535353037\n",
      "  (206, 227)\t0.13119130213757788\n",
      "  (208, 227)\t0.13703071966781566\n",
      "  (212, 227)\t0.3271321713424768\n",
      "  (214, 227)\t0.9789399207747749\n",
      "  (215, 227)\t0.7100682724841818\n",
      "  (216, 227)\t0.6673605044572273\n",
      "  (217, 227)\t0.9496386050678793\n",
      "  (218, 227)\t0.31162640318176\n",
      "  (219, 227)\t0.9889870256068781\n",
      "  (220, 227)\t0.9894360767497662\n",
      "  (221, 227)\t0.9339639275773304\n",
      "  (222, 227)\t0.9829113620740223\n",
      "  (223, 227)\t0.11876058906945391\n",
      "  (224, 227)\t1.0\n",
      "  (227, 227)\t1.0\n"
     ]
    }
   ],
   "source": [
    "import scipy.sparse as sp\n",
    "data = sp.load_npz('./data/pemsd7-m/adj.npz')\n",
    "print(data)"
   ]
  },
  {
   "cell_type": "code",
   "execution_count": null,
   "metadata": {},
   "outputs": [],
   "source": []
  }
 ],
 "metadata": {
  "kernelspec": {
   "display_name": "torchpip",
   "language": "python",
   "name": "py311t201c118pip"
  },
  "language_info": {
   "codemirror_mode": {
    "name": "ipython",
    "version": 3
   },
   "file_extension": ".py",
   "mimetype": "text/x-python",
   "name": "python",
   "nbconvert_exporter": "python",
   "pygments_lexer": "ipython3",
   "version": "3.11.0"
  }
 },
 "nbformat": 4,
 "nbformat_minor": 2
}
